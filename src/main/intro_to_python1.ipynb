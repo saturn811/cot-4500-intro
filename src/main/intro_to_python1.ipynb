import numpy as np


a = np.array([[1,0,0],[0,1,0],[0,0,1]])

for line in a:
    print ('  '.join(map(str, line)))
    
print("\n")


a = np.array([[1,3,3],[3,1,3],[3,3,1]])

for line in a:
    print ('  '.join(map(str, line)))

print("\n")

a = np.array([[1,3],[3,1],[3,3]])

for line in a:
    print ('  '.join(map(str, line)))